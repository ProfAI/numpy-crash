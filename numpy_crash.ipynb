{
  "nbformat": 4,
  "nbformat_minor": 0,
  "metadata": {
    "kernelspec": {
      "display_name": "Python 3",
      "language": "python",
      "name": "python3"
    },
    "language_info": {
      "codemirror_mode": {
        "name": "ipython",
        "version": 3
      },
      "file_extension": ".py",
      "mimetype": "text/x-python",
      "name": "python",
      "nbconvert_exporter": "python",
      "pygments_lexer": "ipython3",
      "version": "3.6.4"
    },
    "colab": {
      "name": "numpy_crash.ipynb",
      "provenance": [],
      "collapsed_sections": [
        "cz4ngOQsl6Qr",
        "-uhKXSi0l6Qs",
        "JwdygN6tl6Qt"
      ]
    }
  },
  "cells": [
    {
      "cell_type": "markdown",
      "metadata": {
        "id": "jmdjxbB8l6QY"
      },
      "source": [
        "# Algebra Lineare con Numpy - Crash Course\n",
        "Numpy è una libreria Python sviluppata appositamente per il calcolo scientifico, permette di operare su vettori e matrici anche di grandi dimensioni, utilizzando funzioni scritte in linguaggio C e quindi molto veloci.<br>"
      ]
    },
    {
      "cell_type": "markdown",
      "metadata": {
        "id": "AfIi4zlTl6Qa"
      },
      "source": [
        "### Installazione\n",
        "La libreria Numpy è compresa in Anaconda.<br>\n",
        "Se non utilizzi anaconda puoi semplicemente installare Numpy con pip\n",
        "<br><br>\n",
        "<span style=\"font-family: Monaco\">pip install numpy</span>\n",
        "<br><br>\n",
        "Come ogni libreria Python, per utilizzare Numpy è necessario prima importarla"
      ]
    },
    {
      "cell_type": "code",
      "metadata": {
        "id": "3ubPxrssl6Qb"
      },
      "source": [
        "import numpy as np"
      ],
      "execution_count": null,
      "outputs": []
    },
    {
      "cell_type": "markdown",
      "metadata": {
        "id": "RPDVIUiHl6Qc"
      },
      "source": [
        "## Vettori\n",
        "Il calcolo tra vettori e matrici ricopre un ruolo fondamentale non solo nel Machine Learning, ma in ogni branca dell'Intelligenza Artificiale e dell'Informatica in generale.\n",
        "Un vettore è un elemento che contiene un insieme ordinato di numeri disposti su una sola riga (vettore riga) o su una sola colonna.\n",
        "\n",
        "$$ \\textbf{v} = \\begin{bmatrix} 5 & 3 & 9 & 1 & 6 \\end{bmatrix} $$\n",
        "\n",
        "$$ \\textbf{v} = \\begin{bmatrix}\n",
        "    5 \\\\\n",
        "    3 \\\\\n",
        "    9 \\\\\n",
        "    1 \\\\\n",
        "    6\n",
        "\\end{bmatrix}\n",
        "$$\n",
        "Per creare un vettore numpy è sufficente passare una lista di numeri alla funzione <span style=\"font-family: Monaco\">array</span>\n"
      ]
    },
    {
      "cell_type": "code",
      "metadata": {
        "id": "blG0XRb0l6Qd",
        "colab": {
          "base_uri": "https://localhost:8080/"
        },
        "outputId": "690d210e-530d-4666-8833-52d4000d117d"
      },
      "source": [
        "v = [10, 15, 20, 25, 30] # lista python\n",
        "type(v)"
      ],
      "execution_count": null,
      "outputs": [
        {
          "output_type": "execute_result",
          "data": {
            "text/plain": [
              "list"
            ]
          },
          "metadata": {
            "tags": []
          },
          "execution_count": 2
        }
      ]
    },
    {
      "cell_type": "code",
      "metadata": {
        "id": "7QMjwDDBl6Qe",
        "colab": {
          "base_uri": "https://localhost:8080/"
        },
        "outputId": "53c293a1-2c67-4739-b3f5-a2573804f1cd"
      },
      "source": [
        "v = np.array(v) # vettore numpy\n",
        "type(v)"
      ],
      "execution_count": null,
      "outputs": [
        {
          "output_type": "execute_result",
          "data": {
            "text/plain": [
              "numpy.ndarray"
            ]
          },
          "metadata": {
            "tags": []
          },
          "execution_count": 3
        }
      ]
    },
    {
      "cell_type": "markdown",
      "metadata": {
        "id": "o-PE48SGl6Qf"
      },
      "source": [
        "### Selezione degli elementi di un vettore\n",
        "E' possibile accedere ad un elemento di un vettore nello stesso modo in cui si accede all'elemento di una lista, cioè utilizzando il suo indice.\n",
        "<br>\n",
        "<br>**NOTA BENE**<br>\n",
        "Nella programmazione gli indici partono sempre dal valore 0, quindi l'elemento alla posizione 0 corrisponde al primo elemento del vettore, quello alla posizione 1 al secondo..."
      ]
    },
    {
      "cell_type": "code",
      "metadata": {
        "id": "WjC9VLl4l6Qg",
        "colab": {
          "base_uri": "https://localhost:8080/"
        },
        "outputId": "7c5a210c-8a11-4c54-b8ce-8fb9b3d225b5"
      },
      "source": [
        "print(\"Primo elemento del vettore: %d \" % (v[0]))\n",
        "print(\"Secondo elemento del vettore: %d \" % (v[1]))\n",
        "\n",
        "\"\"\"utilizzando indici negativi è possibile\n",
        "accedere al vettore a ritroso\"\"\"\n",
        "\n",
        "print(\"Ultimo elemento del vettore: %d \" % (v[-1]))\n",
        "print(\"Penultimo elemento del vettore: %d \" % (v[-2]))\n",
        "\n",
        "\"\"\"L'operatore ':' ci permette di eseguire lo slicing del vettore\n",
        "\n",
        "\"\"\"\n",
        "\n",
        "print(\"Dal terzo al quinto (escluso): %s\" % (v[2:4])) #stampa gli elementi alla posizione 0,1 e 2\n",
        "\n",
        "print(\"Primi 3 elementi del vettore: %s\" % (v[:3])) #stampa gli elementi alla posizione 0,1 e 2\n",
        "print(\"Ultimi 2 elementi del vettore: %s\" % (v[-2:])) #stampa gli elementi alla posizione 3 e 4\n",
        "print(\"Dal secondo al quarto elemento del vettore: %s\" % (v[1:4]))"
      ],
      "execution_count": null,
      "outputs": [
        {
          "output_type": "stream",
          "text": [
            "Primo elemento del vettore: 10 \n",
            "Secondo elemento del vettore: 15 \n",
            "Ultimo elemento del vettore: 30 \n",
            "Penultimo elemento del vettore: 25 \n",
            "Dal terzo al quinto (escluso): [20 25]\n",
            "Primi 3 elementi del vettore: [10 15 20]\n",
            "Ultimi 2 elementi del vettore: [25 30]\n",
            "Dal secondo al quarto elemento del vettore: [15 20 25]\n"
          ],
          "name": "stdout"
        }
      ]
    },
    {
      "cell_type": "markdown",
      "metadata": {
        "id": "QGQFWdkSl6Qh"
      },
      "source": [
        "E' anche possibile utilizzare delle **maschere** per selezionare solo i valori che soddisfano determinate condizioni.<br>\n",
        "Una maschera è semplicemente una lista di valori booleani, i valori dell'array che corrispondo ad un True nella maschera verranno selezionati, quelli che corrispondono ad un false verranno scartati."
      ]
    },
    {
      "cell_type": "code",
      "metadata": {
        "id": "qsDVCVEyl6Qi",
        "colab": {
          "base_uri": "https://localhost:8080/"
        },
        "outputId": "bbb70e56-f644-448b-9686-15b68bf27dec"
      },
      "source": [
        "mask = v>20 # creiamo una maschera per i valori di v che sono maggiori di 20\n",
        "print(mask) # una maschera non è altro che una lista di valori booleani\n",
        "print(\"Valori di v che sono maggiori di 20: %s\" % v[mask]) # applichiamo la maschera come fosse un indice"
      ],
      "execution_count": null,
      "outputs": [
        {
          "output_type": "stream",
          "text": [
            "[False False False  True  True]\n",
            "Valori di v che sono maggiori di 20: [25 30]\n"
          ],
          "name": "stdout"
        }
      ]
    },
    {
      "cell_type": "markdown",
      "metadata": {
        "id": "pMau97Yfl6Qi"
      },
      "source": [
        "Solitamente questo passaggio viene eseguito all'interno di un'unica istruzione"
      ]
    },
    {
      "cell_type": "code",
      "metadata": {
        "id": "HUJDFa2il6Qj",
        "colab": {
          "base_uri": "https://localhost:8080/"
        },
        "outputId": "53832a21-d8e2-4957-8bcf-e4d9e0b657dd"
      },
      "source": [
        "v_lm = v[v<v.mean()] # creiamo un nuovo vettore che contiene solo i valori di v che sono minori del valore medio\n",
        "v_lm"
      ],
      "execution_count": null,
      "outputs": [
        {
          "output_type": "execute_result",
          "data": {
            "text/plain": [
              "array([10, 15])"
            ]
          },
          "metadata": {
            "tags": []
          },
          "execution_count": 6
        }
      ]
    },
    {
      "cell_type": "markdown",
      "metadata": {
        "id": "lPjQ5Bifl6Qj"
      },
      "source": [
        "**RICORDA** La sola applicazione di una maschera non modifica il vettore se non viene eseguita un'assegnazione.<br><br>\n",
        "ESEMPIO<br>\n",
        "<span style=\"font-family: Monaco\">v[v>10]</span> => il valore di v non cambia<br>\n",
        "<span style=\"font-family: Monaco\">v = v[v>10]</span> => il valore di v cambia"
      ]
    },
    {
      "cell_type": "markdown",
      "metadata": {
        "id": "otvsIoyal6Qk"
      },
      "source": [
        "### Modifica di un elemento di un vettore\n",
        "Per modificare uno o più elementi di un vettore basta eseguire una semplice assegnazione"
      ]
    },
    {
      "cell_type": "code",
      "metadata": {
        "id": "KX4fB2h2l6Qk",
        "outputId": "136b92e1-94cd-4ec1-d2f6-c06b464c131a"
      },
      "source": [
        "v = np.array([1, 2 , 3 ,4, 5]) # definisco un nuovo vettore\n",
        "v[0] = 10 # sostituisco il valore 1 con 10 come primo elemento del vettore\n",
        "v[1] = v[2]+v[3] # assegno la somma degli elementi alla posizione 3 e 4 del vettore all'emento in posizione 2 \n",
        "\n",
        "\"\"\"\n",
        "Adesso scambio gli elementi alle prime 2 posizioni\n",
        "con quelli alle ultime due, per farlo creo un vettore temporaneo\n",
        "\"\"\"\n",
        "\n",
        "tmp = np.array([])\n",
        "tmp = v[:2].copy() # utilizzo copy per eseguire un'assegnazione per valore e non per riferimento\n",
        "v[:2] = v[-2:]\n",
        "v[-2:] = tmp\n",
        "\n",
        "print(v)"
      ],
      "execution_count": null,
      "outputs": [
        {
          "output_type": "stream",
          "text": [
            "[ 4  5  3 10  7]\n"
          ],
          "name": "stdout"
        }
      ]
    },
    {
      "cell_type": "markdown",
      "metadata": {
        "id": "waLZnJ1Gl6Qk"
      },
      "source": [
        "### Operazioni tra vettori"
      ]
    },
    {
      "cell_type": "code",
      "metadata": {
        "id": "_ZhV014Yl6Qk",
        "outputId": "4f251893-343e-4595-ad88-e25a1566cbdb"
      },
      "source": [
        "a = np.array([10, 20, 30, 40, 50])\n",
        "b = np.array([5, 10, 15, 20, 25])\n",
        "\n",
        "print(\"a + b = %s\" % (a+b)) # somma tra i vettori a e b\n",
        "print(\"a - b = %s\" % (a-b)) # differenza tra i vettori a e b\n",
        "print(\"a * b = %s\" % (a*b)) # prodotto elemento per elemento dei vettori a e b"
      ],
      "execution_count": null,
      "outputs": [
        {
          "output_type": "stream",
          "text": [
            "a + b = [15 30 45 60 75]\n",
            "a - b = [ 5 10 15 20 25]\n",
            "a * b = [  50  200  450  800 1250]\n"
          ],
          "name": "stdout"
        }
      ]
    },
    {
      "cell_type": "markdown",
      "metadata": {
        "id": "J5VLU6kpl6Ql"
      },
      "source": [
        "Perchè ho sottolineato che il prodotto è un prodotto \"elemento per elemento\" ? Perchè l'algebra lineare definisce anche un altro tipo di prodotto tra vettori, il prodotto scalare (in inglese: dot product), che da come risultato un singolo numero.\n",
        "Il prodotto scalare è definito come la somma del prodotto di ogni elemento del vettore a per il corrispondente elemento del vettore b.<br>\n",
        "<img src=\"https://github.com/ProfAI/ml00/blob/master/A%20-%20Approfondimenti/res/dot_vec_vec.jpg?raw=1\" width=\"750px\" />"
      ]
    },
    {
      "cell_type": "code",
      "metadata": {
        "id": "aBA6VxT4l6Ql",
        "outputId": "ce6e2901-358e-4419-c6cf-e1ad98f6aabe"
      },
      "source": [
        "np.dot(a,b) # prodotto scalare dei vettori a e b\n",
        "np.dot(np.array([[1,3,5],[4,6,8]]),np.array([[4,2],[6,3],[1,4]]))"
      ],
      "execution_count": null,
      "outputs": [
        {
          "output_type": "execute_result",
          "data": {
            "text/plain": [
              "array([[27, 31],\n",
              "       [60, 58]])"
            ]
          },
          "metadata": {
            "tags": []
          },
          "execution_count": 9
        }
      ]
    },
    {
      "cell_type": "markdown",
      "metadata": {
        "id": "ImvE4r10l6Ql"
      },
      "source": [
        "### Operazioni su un singolo vettore"
      ]
    },
    {
      "cell_type": "code",
      "metadata": {
        "id": "Koh1Hd2il6Qm",
        "outputId": "5272dd73-091c-40db-e7f0-96777f134497"
      },
      "source": [
        "v = np.array([5, 8 , 0, 9, 2])\n",
        "print(v)\n",
        "v = np.delete(v,3) # rimuove l'elemento alla posizone 3\n",
        "print(v)\n",
        "v = np.insert(v, 2, 13) # inserisci il valore 13 alla posizione 2\n",
        "print(v)\n",
        "np.random.shuffle(v) #mescola gli elementi nel vettore\n",
        "print(v)"
      ],
      "execution_count": null,
      "outputs": [
        {
          "output_type": "stream",
          "text": [
            "[5 8 0 9 2]\n",
            "[5 8 0 2]\n",
            "[ 5  8 13  0  2]\n",
            "[13  8  0  5  2]\n"
          ],
          "name": "stdout"
        }
      ]
    },
    {
      "cell_type": "markdown",
      "metadata": {
        "id": "j6yabMa2l6Qm"
      },
      "source": [
        "#### Funzioni di base"
      ]
    },
    {
      "cell_type": "code",
      "metadata": {
        "id": "sC4IgwZBl6Qn",
        "colab": {
          "base_uri": "https://localhost:8080/"
        },
        "outputId": "2cf776c4-0fdb-45ec-9c0d-16c075c68815"
      },
      "source": [
        "print(\"Numero di elementi del vettore %d\" % (len(v)))\n",
        "print(\"Elementi ordinati del vettore: %s\" % (np.sort(v)))\n",
        "print(\"Somma di tutti gli elemento di v: %d\" % (np.sum(v)))"
      ],
      "execution_count": null,
      "outputs": [
        {
          "output_type": "stream",
          "text": [
            "Numero di elementi del vettore 5\n",
            "Elementi ordinati del vettore: [10 15 20 25 30]\n",
            "Somma di tutti gli elemento di v: 100\n"
          ],
          "name": "stdout"
        }
      ]
    },
    {
      "cell_type": "markdown",
      "metadata": {
        "id": "H-I6Fmaol6Qn"
      },
      "source": [
        "#### Funzioni statistiche"
      ]
    },
    {
      "cell_type": "code",
      "metadata": {
        "id": "RrNn0mIWl6Qn",
        "colab": {
          "base_uri": "https://localhost:8080/"
        },
        "outputId": "7ac454ff-f68b-4ab7-990e-11e45116ea2e"
      },
      "source": [
        "print(\"Il valore massimo del vettore è %d e si trova alla posizione %d\" % (np.max(v), np.argmax(v)))\n",
        "print(\"Il valore minimo del vettore è %d e si trova alla posizione %d\" % (np.min(v), np.argmin(v)))\n",
        "print(\"Valore medio del vettore: %.1f\" % (np.mean(v))) # %.1f ci permette di stampare il valore con la virgola limitandolo a una sola cifra decimale\n",
        "print(\"Mediana del vettore: %d\" % (np.median(v)))\n",
        "print(\"Deviazione standard degli elementi del vettore: %.2f\" % (v.std()))"
      ],
      "execution_count": null,
      "outputs": [
        {
          "output_type": "stream",
          "text": [
            "Il valore massimo del vettore è 30 e si trova alla posizione 4\n",
            "Il valore minimo del vettore è 10 e si trova alla posizione 0\n",
            "Valore medio del vettore: 20.0\n",
            "Mediana del vettore: 20\n",
            "Deviazione standard degli elementi del vettore: 7.07\n"
          ],
          "name": "stdout"
        }
      ]
    },
    {
      "cell_type": "markdown",
      "metadata": {
        "id": "SGDOBQd-l6Qn"
      },
      "source": [
        "#### Altre funzioni"
      ]
    },
    {
      "cell_type": "code",
      "metadata": {
        "id": "adw2BboXl6Qn",
        "colab": {
          "base_uri": "https://localhost:8080/"
        },
        "outputId": "98e40585-04c4-468c-c853-c1a958b3f89e"
      },
      "source": [
        "print(\"Logaritmo naturale di tutti gli elementi di v: %s\" % (np.log(v)))\n",
        "print(\"Esponente di tutti gli elementi di v: %s\" % (np.exp(v)))\n",
        "print(\"Funzione seno di tutti gli elementi di v: %s\" % (np.sin(v)))"
      ],
      "execution_count": null,
      "outputs": [
        {
          "output_type": "stream",
          "text": [
            "Logaritmo naturale di tutti gli elementi di v: [2.30258509 2.7080502  2.99573227 3.21887582 3.40119738]\n",
            "Esponente di tutti gli elementi di v: [2.20264658e+04 3.26901737e+06 4.85165195e+08 7.20048993e+10\n",
            " 1.06864746e+13]\n",
            "Funzione seno di tutti gli elementi di v: [-0.54402111  0.65028784  0.91294525 -0.13235175 -0.98803162]\n"
          ],
          "name": "stdout"
        }
      ]
    },
    {
      "cell_type": "markdown",
      "metadata": {
        "id": "TqCZItC-l6Qn"
      },
      "source": [
        "# Matrici\n",
        "Una matrice è un insieme di numeri disposti su più righe o più colonne.\n",
        "<br><br>\n",
        "$$\n",
        "\\textbf{M} = \\begin{bmatrix}\n",
        "    3 & 5 & 9 \\\\\n",
        "    1 & 8 & 4 \\\\\n",
        "    2 & 6 & 7\n",
        "\\end{bmatrix}\n",
        "$$\n",
        "<br>\n",
        "M è una matrice di 3 righe e 3 colonne (matrice 3x3), l'accesso ad un valore valore è dato da due indici che rappresentano rispettivamente numero di riga e numero di colonna.<br><br> Nell'esempio M:  <span style=\"font-family: Monaco\">M[1,1] = 3, M[2,1] = 1, M[2,3] = 4, M[3,2] = 6</span><br><br>\n",
        "Numpy considera i vettori come matrici composti da una sola riga o da una sola colonna.\n",
        "<br><br>\n",
        "Per creare una matrice con Numpy possiamo semplicemente passare una lista bidimensionale alla funzione <span style=\"font-family: Monaco\">array</span>\n",
        "<br><br>\n",
        "**NOTA BENE:** In informatica (e soprattutto con Numpy) gli **array** rappresentano sia vettori che matrici, nello specifico per i vettori si parla di **array monodimensionali** mentre per le matrici si parla di array **bidimensionali**."
      ]
    },
    {
      "cell_type": "code",
      "metadata": {
        "id": "ntXNe8Nnl6Qo",
        "colab": {
          "base_uri": "https://localhost:8080/"
        },
        "outputId": "1a092a1d-a8f9-4cdd-f58b-a4cb32283843"
      },
      "source": [
        "m = np.array([[1,2,3],[3,4,6],[7,8,9]])\n",
        "m"
      ],
      "execution_count": null,
      "outputs": [
        {
          "output_type": "execute_result",
          "data": {
            "text/plain": [
              "array([[1, 2, 3],\n",
              "       [3, 4, 6],\n",
              "       [7, 8, 9]])"
            ]
          },
          "metadata": {
            "tags": []
          },
          "execution_count": 10
        }
      ]
    },
    {
      "cell_type": "markdown",
      "metadata": {
        "id": "mP8cMcHml6Qo"
      },
      "source": [
        "Tramite gli attributi <span style=\"font-family: Monaco\">size</span> e <span style=\"font-family: Monaco\">shape</span> possiamo accedere rispettivamente al numero totale di elementi della matrice e alla dimensione della matrice, intesa come numero di righe e numero di colonne."
      ]
    },
    {
      "cell_type": "code",
      "metadata": {
        "id": "i7ub8omWl6Qo",
        "colab": {
          "base_uri": "https://localhost:8080/"
        },
        "outputId": "d4921807-ff0a-4e51-ace4-1cea60068e7a"
      },
      "source": [
        "print(\"Numero totale di elementi nella matrice\")\n",
        "print(m.size)\n",
        "print(\"Dimensione della matrice\")\n",
        "print(m.shape)"
      ],
      "execution_count": null,
      "outputs": [
        {
          "output_type": "stream",
          "text": [
            "Numero totale di elementi nella matrice\n",
            "9\n",
            "Dimensione della matrice\n",
            "(3, 3)\n"
          ],
          "name": "stdout"
        }
      ]
    },
    {
      "cell_type": "markdown",
      "metadata": {
        "id": "0ZmddnGsl6Qo"
      },
      "source": [
        "Per selezionare e modificare uno o più elementi di una matrice possiamo procedere come con un vettore, ma aggiungendo un secondo indice.<br>\n",
        "In Numpy il primo indice corrisponde alla riga, il secondo alla colonna.<br><br>\n",
        "**RICORDA**: in Python e nella maggior parte dei linguaggi di programmazione gli indici di matrici e vettori partono da 0 e non da 1)"
      ]
    },
    {
      "cell_type": "code",
      "metadata": {
        "id": "OteSZ9Zzl6Qo",
        "outputId": "cfb90ecb-8830-42e5-d280-433684a73c65"
      },
      "source": [
        "print(\"Elemento alla prima colonna della prima riga: %d\" % (m[0,0]))\n",
        "print(\"Elemento alla terza colonna colonna della seconda riga: %d\" % (m[1,2]))\n",
        "print(\"Elemento all'ultima colonna dell'ultima riga: %d\" % (m[-1,-1])) #equivalente a m[2,2]\n",
        "\n",
        "\"\"\"\n",
        "Selezionando un'intera riga o colonna\n",
        "otterremo un vettore\n",
        "\"\"\"\n",
        "\n",
        "print(\"Prima riga della matrice: %s\" % m[0,:]) #l'operatore ':' indica di selezionare tutti gli elementi della prima riga\n",
        "print(\"Seconda colonna della matrice: %s \" % m[:,1])"
      ],
      "execution_count": null,
      "outputs": [
        {
          "output_type": "stream",
          "text": [
            "Elemento alla prima colonna della prima riga: 1\n",
            "Elemento alla terza colonna colonna della seconda riga: 6\n",
            "Elemento all'ultima colonna dell'ultima riga: 9\n",
            "Prima riga della matrice: [1 2 3]\n",
            "Seconda colonna della matrice: [2 4 8] \n"
          ],
          "name": "stdout"
        }
      ]
    },
    {
      "cell_type": "markdown",
      "metadata": {
        "id": "muParexml6Qp"
      },
      "source": [
        "## Ridimensionare una matrice\n",
        "Utilizzando il parametro reshape possiamo cambiare la dimensione di una matrice"
      ]
    },
    {
      "cell_type": "code",
      "metadata": {
        "id": "0tYY3G-hl6Qp",
        "outputId": "8481f4d1-da7f-43ac-c4ce-9895cfeb9d68"
      },
      "source": [
        "print(\"Matrice 4x3\")\n",
        "m = np.array([[1,2,3],[4,5,6],[7,8,9],[10,11,12]]) # Creare una matrice di dimensione 4x3\n",
        "print(m)\n",
        "\n",
        "m = m.reshape(3,4)\n",
        "\n",
        "print(\"\\nMatrice ridimensionata in 3x4\")\n",
        "print(m)"
      ],
      "execution_count": null,
      "outputs": [
        {
          "output_type": "stream",
          "text": [
            "Matrice 4x3\n",
            "[[ 1  2  3]\n",
            " [ 4  5  6]\n",
            " [ 7  8  9]\n",
            " [10 11 12]]\n",
            "\n",
            "Matrice ridimensionata in 3x4\n",
            "[[ 1  2  3  4]\n",
            " [ 5  6  7  8]\n",
            " [ 9 10 11 12]]\n"
          ],
          "name": "stdout"
        }
      ]
    },
    {
      "cell_type": "markdown",
      "metadata": {
        "id": "kXFXxQkOl6Qp"
      },
      "source": [
        "## Da matrice a vettore\n",
        "Sempre utilizzando reshape è possibile far diventere una matrice un vettore \"spacchettando\" gli elementi all'interno di un'unica riga (o colonna).<br>\n",
        "<img src=\"https://github.com/ProfAI/ml00/blob/master/A%20-%20Approfondimenti/res/mat_to_vec.jpg?raw=1\" width=\"600px\" />"
      ]
    },
    {
      "cell_type": "code",
      "metadata": {
        "id": "muvLim3sl6Qp",
        "outputId": "1dbea2d0-b9d1-4765-cbc1-701356c212e5"
      },
      "source": [
        "m = np.array([[1,2,3],[4,5,6],[7,8,9],[10,11,12]]) # Creare una matrice di dimensione 4x3\n",
        "print(\"Dimensione della matrice: \"+str(m.shape))\n",
        "m = m.reshape(1, m.size) # Srotolare tutti gli elementi all'interno di un unica riga\n",
        "m"
      ],
      "execution_count": null,
      "outputs": [
        {
          "output_type": "stream",
          "text": [
            "Dimensione della matrice: (4, 3)\n"
          ],
          "name": "stdout"
        },
        {
          "output_type": "execute_result",
          "data": {
            "text/plain": [
              "array([[ 1,  2,  3,  4,  5,  6,  7,  8,  9, 10, 11, 12]])"
            ]
          },
          "metadata": {
            "tags": []
          },
          "execution_count": 18
        }
      ]
    },
    {
      "cell_type": "markdown",
      "metadata": {
        "id": "gLYDVR37l6Qp"
      },
      "source": [
        "In realtà abbiamo ottenuto una matrice di dimensione 1x12 e non un vettore, per ottenere il vettore dobbiamo estrarre la prima (e unica) riga."
      ]
    },
    {
      "cell_type": "code",
      "metadata": {
        "id": "fy-QOme_l6Qp",
        "outputId": "9968e487-0200-4ed7-a4a2-ab3c1cd1e276"
      },
      "source": [
        "print(\"Dimensione della matrice: \"+str(m.shape))\n",
        "m = m[0]\n",
        "print(\"Dimensione della matrice trasformata in vettore: \"+str(m.shape))\n",
        "m"
      ],
      "execution_count": null,
      "outputs": [
        {
          "output_type": "stream",
          "text": [
            "Dimensione della matrice: (1, 12)\n",
            "Dimensione della matrice trasformata in vettore: (12,)\n"
          ],
          "name": "stdout"
        },
        {
          "output_type": "execute_result",
          "data": {
            "text/plain": [
              "array([ 1,  2,  3,  4,  5,  6,  7,  8,  9, 10, 11, 12])"
            ]
          },
          "metadata": {
            "tags": []
          },
          "execution_count": 19
        }
      ]
    },
    {
      "cell_type": "markdown",
      "metadata": {
        "id": "5teF1F4zpKTG"
      },
      "source": [
        "Avremmo potuto eseguire questa stessa operazione passando il valore -1 a reshape"
      ]
    },
    {
      "cell_type": "code",
      "metadata": {
        "colab": {
          "base_uri": "https://localhost:8080/"
        },
        "id": "dKjSUr0DpCEK",
        "outputId": "8b8bab8a-29f9-4537-c7c3-96b25b1e5d34"
      },
      "source": [
        "m = np.array([[1,2,3],[4,5,6],[7,8,9],[10,11,12]]) # Creare una matrice di dimensione 4x3\n",
        "m.reshape(-1) "
      ],
      "execution_count": null,
      "outputs": [
        {
          "output_type": "execute_result",
          "data": {
            "text/plain": [
              "array([ 1,  2,  3,  4,  5,  6,  7,  8,  9, 10, 11, 12])"
            ]
          },
          "metadata": {
            "tags": []
          },
          "execution_count": 17
        }
      ]
    },
    {
      "cell_type": "markdown",
      "metadata": {
        "id": "U8zLPBo4l6Qq"
      },
      "source": [
        "Altre due soluzioni apparentemente equivalenti sono i metodi  <span style=\"font-family: Monaco\">flatten</span> e <span style=\"font-family: Monaco\">ravel</span>"
      ]
    },
    {
      "cell_type": "code",
      "metadata": {
        "id": "4NVlJ3Bul6Qq",
        "colab": {
          "base_uri": "https://localhost:8080/"
        },
        "outputId": "0017df5d-3fc6-4759-e2bc-98c9d33255d1"
      },
      "source": [
        "m = np.array([[1,2,3],[4,5,6],[7,8,9],[10,11,12]]) # Creare una matrice di dimensione 4x3\n",
        "m_flatten = m.flatten()\n",
        "m_flatten"
      ],
      "execution_count": null,
      "outputs": [
        {
          "output_type": "execute_result",
          "data": {
            "text/plain": [
              "array([ 1,  2,  3,  4,  5,  6,  7,  8,  9, 10, 11, 12])"
            ]
          },
          "metadata": {
            "tags": []
          },
          "execution_count": 27
        }
      ]
    },
    {
      "cell_type": "code",
      "metadata": {
        "colab": {
          "base_uri": "https://localhost:8080/"
        },
        "id": "K8XxQvizo3Pe",
        "outputId": "b768f7b0-67e0-47d4-b57f-270843545f38"
      },
      "source": [
        "m_ravel = m.ravel()\n",
        "m_ravel"
      ],
      "execution_count": null,
      "outputs": [
        {
          "output_type": "execute_result",
          "data": {
            "text/plain": [
              "array([ 1,  2,  3,  4,  5,  6,  7,  8,  9, 10, 11, 12])"
            ]
          },
          "metadata": {
            "tags": []
          },
          "execution_count": 28
        }
      ]
    },
    {
      "cell_type": "markdown",
      "metadata": {
        "id": "h2xT6njRqc7u"
      },
      "source": [
        "Perché dico \"apparentemente\"? Perchè pur ritornando lo stesso risultato, i due metodi ritornano due oggetti diversi. Infatti flatten ritorna una nuova copia dell'array, mentre ravel ritorna una view, cioè un puntatore all'oggetto originale. Come facciamo a sapere se stiamo lavorando su una copia o una view? Ci basta usare l'attributo .base, nel caso di una copia otterremo None, mentre per una view otterremo l'array originale."
      ]
    },
    {
      "cell_type": "code",
      "metadata": {
        "colab": {
          "base_uri": "https://localhost:8080/"
        },
        "id": "bqvc9ny2rpT1",
        "outputId": "3ec47e52-27db-4f0f-a607-a8b898a92038"
      },
      "source": [
        "print(id(m.base))\n",
        "print(id(m_flatten.base))\n",
        "print(id(m_ravel.base))"
      ],
      "execution_count": null,
      "outputs": [
        {
          "output_type": "stream",
          "text": [
            "94359939853760\n",
            "94359939853760\n",
            "140567666210656\n"
          ],
          "name": "stdout"
        }
      ]
    },
    {
      "cell_type": "markdown",
      "metadata": {
        "id": "AidtarwKqHRV"
      },
      "source": [
        "https://www.w3schools.com/python/numpy/numpy_copy_vs_view.asp"
      ]
    },
    {
      "cell_type": "markdown",
      "metadata": {
        "id": "1xwTx_3jl6Qr"
      },
      "source": [
        "## Generazione di matrici e vettori\n",
        "Numpy mette a disposizione una serie di funzioni per generare matrici e vettori."
      ]
    },
    {
      "cell_type": "code",
      "metadata": {
        "id": "3BJpMwipl6Qr",
        "outputId": "b35e179f-4b5b-42df-eaab-d357393cf4e0"
      },
      "source": [
        "#np.zeros([3]) # Generare un vettore di 3 elementi dal valore 0\n",
        "np.zeros([3,3]) # Generare una matrice 3x3 composta da valori 0"
      ],
      "execution_count": null,
      "outputs": [
        {
          "output_type": "execute_result",
          "data": {
            "text/plain": [
              "array([[0., 0., 0.],\n",
              "       [0., 0., 0.],\n",
              "       [0., 0., 0.]])"
            ]
          },
          "metadata": {
            "tags": []
          },
          "execution_count": 21
        }
      ]
    },
    {
      "cell_type": "code",
      "metadata": {
        "id": "DIma4nyGl6Qr",
        "outputId": "3b4c452a-a7c9-44e3-cb4b-6a05a8ed1401"
      },
      "source": [
        "#np.ones([3]) # Generare un vettore di 3 elementi dal valore 1\n",
        "np.ones([3,3]) # Generare una matrice 3x3 composta da valori 1"
      ],
      "execution_count": null,
      "outputs": [
        {
          "output_type": "execute_result",
          "data": {
            "text/plain": [
              "array([[1., 1., 1.],\n",
              "       [1., 1., 1.],\n",
              "       [1., 1., 1.]])"
            ]
          },
          "metadata": {
            "tags": []
          },
          "execution_count": 22
        }
      ]
    },
    {
      "cell_type": "code",
      "metadata": {
        "id": "B-sv8fl5l6Qr",
        "outputId": "a8e160a7-d49f-4073-a914-7d63f31fc47a"
      },
      "source": [
        "np.eye(3, 3) # Crea una matrice 3x3 con la diagonale contenente il valore 1"
      ],
      "execution_count": null,
      "outputs": [
        {
          "output_type": "execute_result",
          "data": {
            "text/plain": [
              "array([[1., 0., 0.],\n",
              "       [0., 1., 0.],\n",
              "       [0., 0., 1.]])"
            ]
          },
          "metadata": {
            "tags": []
          },
          "execution_count": 23
        }
      ]
    },
    {
      "cell_type": "markdown",
      "metadata": {
        "id": "cz4ngOQsl6Qr"
      },
      "source": [
        "### Generazione di vettori e matrici casuali"
      ]
    },
    {
      "cell_type": "code",
      "metadata": {
        "id": "S0nqVb74l6Qr",
        "outputId": "688a2bae-c6c2-4222-ff74-8db4914b9691"
      },
      "source": [
        "#np.random.rand(3) # Generare un vettore di 3 elementi casuali compresi tra 0 e 1\n",
        "np.random.rand(3,3) # Generare una matrice di valori casuali compresi tra 0 e 1"
      ],
      "execution_count": null,
      "outputs": [
        {
          "output_type": "execute_result",
          "data": {
            "text/plain": [
              "array([[0.73662902, 0.05764788, 0.0564087 ],\n",
              "       [0.76456562, 0.0365254 , 0.00504737],\n",
              "       [0.37768426, 0.77831061, 0.37472263]])"
            ]
          },
          "metadata": {
            "tags": []
          },
          "execution_count": 24
        }
      ]
    },
    {
      "cell_type": "code",
      "metadata": {
        "id": "FlHqMwTgl6Qs",
        "outputId": "826bd99c-2f8d-4fbf-937b-b4b8dfb779c4"
      },
      "source": [
        "#np.random.randint(5,size=3) # Generare un vettore di 3 interi casuali tra 0 e 5\n",
        "np.random.randint(5,size=[3,3]) # Generare una matrice 3x3 di interi casuali tra 0 e 5"
      ],
      "execution_count": null,
      "outputs": [
        {
          "output_type": "execute_result",
          "data": {
            "text/plain": [
              "array([[1, 1, 3],\n",
              "       [0, 2, 3],\n",
              "       [2, 0, 0]])"
            ]
          },
          "metadata": {
            "tags": []
          },
          "execution_count": 25
        }
      ]
    },
    {
      "cell_type": "code",
      "metadata": {
        "id": "N2wTsGq-l6Qs",
        "outputId": "9bbab5ea-d041-4292-c0c5-a9e42734290b"
      },
      "source": [
        "#np.random.normal(0,1,(3,3)) # Genera un vettore di 3 elementi casuali con media 0 e deviazione standard 1\n",
        "np.random.normal(0,1,(3,3)) # Genera una matrice 3x3 di elementi casuali con media 0 e deviazione standard 1"
      ],
      "execution_count": null,
      "outputs": [
        {
          "output_type": "execute_result",
          "data": {
            "text/plain": [
              "array([[-1.33901632,  0.56175178, -1.99705198],\n",
              "       [ 0.31439023, -1.34709931,  1.32368677],\n",
              "       [-0.24513657,  0.34071519, -1.62259224]])"
            ]
          },
          "metadata": {
            "tags": []
          },
          "execution_count": 26
        }
      ]
    },
    {
      "cell_type": "markdown",
      "metadata": {
        "id": "Kpoke9YOl6Qs"
      },
      "source": [
        "Possiamo impostare il <span style=\"font-family: Monaco\">seed</span> manualmente, questo ci permetterà di ottenere gli stessi valori con diverse esecuzioni del codice."
      ]
    },
    {
      "cell_type": "code",
      "metadata": {
        "id": "EnumYdeyl6Qs",
        "outputId": "fdf6ef78-e033-46b2-962a-399b0172016e"
      },
      "source": [
        "\"\"\"\n",
        "Eseguendo questo codice più volte\n",
        "otterrai sempre lo stesso array\n",
        "\"\"\"\n",
        "np.random.seed(1)\n",
        "np.random.rand(3,3)"
      ],
      "execution_count": null,
      "outputs": [
        {
          "output_type": "execute_result",
          "data": {
            "text/plain": [
              "array([[4.17022005e-01, 7.20324493e-01, 1.14374817e-04],\n",
              "       [3.02332573e-01, 1.46755891e-01, 9.23385948e-02],\n",
              "       [1.86260211e-01, 3.45560727e-01, 3.96767474e-01]])"
            ]
          },
          "metadata": {
            "tags": []
          },
          "execution_count": 27
        }
      ]
    },
    {
      "cell_type": "markdown",
      "metadata": {
        "id": "-uhKXSi0l6Qs"
      },
      "source": [
        "### Generazione di intervalli numerici\n",
        "Numpy mette a disposizione anche una serie di funzioni per creare intervalli numerici, sempre sotto forma di matrici"
      ]
    },
    {
      "cell_type": "code",
      "metadata": {
        "id": "0FklsAfkl6Qs",
        "outputId": "6542ac03-c2f0-4eca-c50c-1ab4e8cd3331"
      },
      "source": [
        "np.arange(10) # Genera un intervallo numerico da 0 a 10 (escluso)"
      ],
      "execution_count": null,
      "outputs": [
        {
          "output_type": "execute_result",
          "data": {
            "text/plain": [
              "array([0, 1, 2, 3, 4, 5, 6, 7, 8, 9])"
            ]
          },
          "metadata": {
            "tags": []
          },
          "execution_count": 28
        }
      ]
    },
    {
      "cell_type": "code",
      "metadata": {
        "id": "Q7oNlxtzl6Qs",
        "outputId": "515ee886-b8a0-4923-c305-efdc4e40a405"
      },
      "source": [
        "np.arange(2,8) # Genera un intervallo numerico da 2 a 8 (escluso)"
      ],
      "execution_count": null,
      "outputs": [
        {
          "output_type": "execute_result",
          "data": {
            "text/plain": [
              "array([2, 3, 4, 5, 6, 7])"
            ]
          },
          "metadata": {
            "tags": []
          },
          "execution_count": 29
        }
      ]
    },
    {
      "cell_type": "code",
      "metadata": {
        "id": "j_sfEbLZl6Qs",
        "outputId": "9445f595-323c-455a-c447-3eb2cebbb23a"
      },
      "source": [
        "\"\"\"\n",
        "Generiamo un intervallo numerico tra 0 e 10 (incluso)\n",
        "distribuiti uniformemente\n",
        "\"\"\"\n",
        "print(np.linspace(0,10,num=20))\n",
        "\n",
        "\"\"\"\n",
        "Per escludere il 10 possiamo\n",
        "utilizzare il parametro endpoint\n",
        "\"\"\"\n",
        "print(np.linspace(0,10,num=20, endpoint=False))"
      ],
      "execution_count": null,
      "outputs": [
        {
          "output_type": "stream",
          "text": [
            "[ 0.          0.52631579  1.05263158  1.57894737  2.10526316  2.63157895\n",
            "  3.15789474  3.68421053  4.21052632  4.73684211  5.26315789  5.78947368\n",
            "  6.31578947  6.84210526  7.36842105  7.89473684  8.42105263  8.94736842\n",
            "  9.47368421 10.        ]\n",
            "[0.  0.5 1.  1.5 2.  2.5 3.  3.5 4.  4.5 5.  5.5 6.  6.5 7.  7.5 8.  8.5\n",
            " 9.  9.5]\n"
          ],
          "name": "stdout"
        }
      ]
    },
    {
      "cell_type": "markdown",
      "metadata": {
        "id": "vhGhCXaBl6Qt"
      },
      "source": [
        "## Broadcasting\n",
        "Dato che Numpy non fa differenza tra matrici e vettori, le operazioni sulle matrici sono le stesse dei vettori.<br><br>\n",
        "Invece, la somma tra matrici e vettori aventi lo stesso numero di righe (o colonne) avviene sommando il vettore per ogni riga (o colonna) dell'array. Questa operazione si chiama broadcasting.\n",
        "<img src=\"https://github.com/ProfAI/ml00/blob/master/A%20-%20Approfondimenti/res/broadcasting.jpg?raw=1\" width=\"600px\"/>\n"
      ]
    },
    {
      "cell_type": "code",
      "metadata": {
        "id": "4YSJGvk1l6Qt",
        "outputId": "79e2b87a-3755-4e3e-a42a-ad3b5b447e28"
      },
      "source": [
        "v = np.array([7,3,2])\n",
        "m = np.array([[3,7,2],[4,3,1],[6,3,8]])\n",
        "v+m"
      ],
      "execution_count": null,
      "outputs": [
        {
          "output_type": "execute_result",
          "data": {
            "text/plain": [
              "array([[10, 10,  4],\n",
              "       [11,  6,  3],\n",
              "       [13,  6, 10]])"
            ]
          },
          "metadata": {
            "tags": []
          },
          "execution_count": 31
        }
      ]
    },
    {
      "cell_type": "code",
      "metadata": {
        "id": "lDdt7Gu2l6Qt"
      },
      "source": [
        "v = np.random.randint(10,size=[3,3])"
      ],
      "execution_count": null,
      "outputs": []
    },
    {
      "cell_type": "markdown",
      "metadata": {
        "id": "KxMKqfkal6Qt"
      },
      "source": [
        "## Prodotto scalare tra matrici\n",
        "Nel caso di matrici il prodotto scalare può essere eseguito solo se il numero di colonne della prima equivale al numero di righe della seconda, in questo caso si esegue sommando i prodotti di ogni elemento di ogni riga della prima per il corrispondente\n",
        "elemeno della corrispondente colonna della seconda (e' più semplice a farsi che a dirsi, osserva bene l'esempio qui sotto)<br>.\n",
        "<img src=\"https://github.com/ProfAI/ml00/blob/master/A%20-%20Approfondimenti/res/dot_mat_mat.jpg?raw=1\" width=\"750px\" />\n",
        "<br>\n",
        "**NOTA BENE** Il prodotto scalare tra due vettori non è altro che un caso particolare di questo, in cui il primo vettore viene considerato come un vettore-riga e il secondo come un vettore-colonna."
      ]
    },
    {
      "cell_type": "code",
      "metadata": {
        "id": "bOV3aPwql6Qt",
        "outputId": "bded9cc2-b799-43df-ce64-fab7fabaa9a1"
      },
      "source": [
        "m1 = np.array([[1,3,5],[4,6,8]])\n",
        "m2 = np.array([[4,2],[6,3],[1,4]])\n",
        "np.dot(m1,m2)"
      ],
      "execution_count": null,
      "outputs": [
        {
          "output_type": "execute_result",
          "data": {
            "text/plain": [
              "array([[27, 31],\n",
              "       [60, 58]])"
            ]
          },
          "metadata": {
            "tags": []
          },
          "execution_count": 33
        }
      ]
    },
    {
      "cell_type": "markdown",
      "metadata": {
        "id": "JwdygN6tl6Qt"
      },
      "source": [
        "### Capire il parametro axis\n",
        "Alcune funzioni di Numpy agiscono sull'intera matrice, oppure sui singoli vettori-riga o vettori-colonna che compongono la matrice. Questo può essere controllato tramite il parametro <span style=\"font-family: Monaco\">axis</span>."
      ]
    },
    {
      "cell_type": "code",
      "metadata": {
        "id": "pxV2yKWVl6Qt",
        "outputId": "c4c61c22-c4e9-4e37-aa3b-831eb39d4cac"
      },
      "source": [
        "m = np.array([[1,2,3],[4,5,6],[7,8,9]])\n",
        "print(\"Somma di tutti i valori della matrice: %d\" % m.sum())\n",
        "print(\"Somma dei valori di ogni colonna della matrice: %s\" % m.sum(axis=0))\n",
        "print(\"Somma dei valori di ogni riga della matrice: %s\" % m.sum(axis=1))"
      ],
      "execution_count": null,
      "outputs": [
        {
          "output_type": "stream",
          "text": [
            "Somma di tutti i valori della matrice: 45\n",
            "Somma dei valori di ogni colonna della matrice: [12 15 18]\n",
            "Somma dei valori di ogni riga della matrice: [ 6 15 24]\n"
          ],
          "name": "stdout"
        }
      ]
    },
    {
      "cell_type": "markdown",
      "metadata": {
        "id": "yo7mpudTl6Qt"
      },
      "source": [
        "# Vettorizzazione\n",
        "La vettorizzazione permette di eseguire operazioni su array Numpy senza utilizzare esplicitamente cicli for.<br>\n",
        "Esempi sono le varie operazioni aritmetiche tra gli array.\n",
        "<br>I cicli vengono gestiti internamente da Numpy in linguaggio C, garantendo performance notevolmente più evelate."
      ]
    },
    {
      "cell_type": "code",
      "metadata": {
        "id": "ytqmyyrul6Qt",
        "colab": {
          "base_uri": "https://localhost:8080/"
        },
        "outputId": "f9599ff2-6ab9-4e51-85dc-b143bf3b6e75"
      },
      "source": [
        "import numpy as np\n",
        "from timeit import Timer\n",
        "\n",
        "arr = np.arange(100000)\n",
        "\n",
        "\n",
        "def loop_sum():\n",
        "    \n",
        "    i = 0\n",
        "\n",
        "    while i<arr.size:\n",
        "      arr[i]+=1\n",
        "      i+=1\n",
        "\n",
        "\n",
        "def lc_sum():\n",
        "    return [val + 1 for val in arr]\n",
        "\n",
        "\n",
        "def numpy_sum():\n",
        "    return arr+1\n",
        "\n",
        "\n",
        "exctime_loop = Timer(loop_sum).timeit(100)\n",
        "exctime_lc = Timer(lc_sum).timeit(100)\n",
        "exctime_num = Timer(numpy_sum).timeit(100)\n",
        "\n",
        "print(\"Esecuzione con ciclo for: %f secondi\" % exctime_loop)\n",
        "print(\"Esecuzione con list comprehension for: %f secondi\" % exctime_lc)\n",
        "print(\"Esecuzione vettorizzata con Numpy: %f secondi\" % exctime_num)\n",
        "\n",
        "print(\"L'esecuzione vettorizzata è %d volte più veloce\" % int(exctime_loop/exctime_num))"
      ],
      "execution_count": null,
      "outputs": [
        {
          "output_type": "stream",
          "text": [
            "Esecuzione con ciclo for: 6.335782 secondi\n",
            "Esecuzione con list comprehension for: 4.143569 secondi\n",
            "Esecuzione vettorizzata con Numpy: 0.017550 secondi\n",
            "L'esecuzione vettorizzata è 361 volte più veloce\n"
          ],
          "name": "stdout"
        }
      ]
    },
    {
      "cell_type": "markdown",
      "metadata": {
        "id": "a57G70oUl6Qu"
      },
      "source": [
        "Capire e padroneggiare la vettorizzazione è fondamentale per sfruttare al massimo le potenzialità di Numpy."
      ]
    }
  ]
}